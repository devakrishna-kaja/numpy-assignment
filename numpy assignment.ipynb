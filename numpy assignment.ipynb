{
 "cells": [
  {
   "cell_type": "code",
   "execution_count": 1,
   "metadata": {},
   "outputs": [],
   "source": [
    "import numpy as np"
   ]
  },
  {
   "cell_type": "code",
   "execution_count": null,
   "metadata": {},
   "outputs": [],
   "source": [
    "a = np.array((1,3,4,5))\n",
    "a"
   ]
  },
  {
   "cell_type": "code",
   "execution_count": null,
   "metadata": {},
   "outputs": [],
   "source": [
    "b = np.array([3,5,1,2])"
   ]
  },
  {
   "cell_type": "code",
   "execution_count": null,
   "metadata": {},
   "outputs": [],
   "source": [
    "b[::-1]"
   ]
  },
  {
   "cell_type": "code",
   "execution_count": null,
   "metadata": {},
   "outputs": [],
   "source": [
    "np.vander(b,increasing=False)"
   ]
  },
  {
   "cell_type": "code",
   "execution_count": null,
   "metadata": {},
   "outputs": [],
   "source": [
    "np.vander(b,increasing=True)"
   ]
  },
  {
   "cell_type": "code",
   "execution_count": null,
   "metadata": {},
   "outputs": [],
   "source": [
    "np.column_stack([b**(len(b)-i-1) for i in range(len(b))])   #this is for increase = False"
   ]
  },
  {
   "cell_type": "code",
   "execution_count": null,
   "metadata": {},
   "outputs": [],
   "source": [
    "np.column_stack([b**i for i in range(len(b))]) #this is for increase = True"
   ]
  },
  {
   "cell_type": "code",
   "execution_count": null,
   "metadata": {},
   "outputs": [],
   "source": [
    "a= [3, 5, 7, 2, 8, 10, 11, 65, 72, 81, 99, 100, 150]\n",
    "window =3"
   ]
  },
  {
   "cell_type": "code",
   "execution_count": null,
   "metadata": {},
   "outputs": [],
   "source": [
    "Average_values_for_window=[]\n",
    "def moving_average(array,window):\n",
    "    try:\n",
    "        for index in range(len(array)):\n",
    "            moving_index = index+window\n",
    "            \n",
    "            \n",
    "            if moving_index > len(array):\n",
    "                break\n",
    "                \n",
    "                \n",
    "            elements = np.take(array,indices=range(index,moving_index))\n",
    "\n",
    "            print(elements)\n",
    "            \n",
    "            total_avg_for_window = np.average(elements)\n",
    "            \n",
    "            Average_values_for_window.append(total_avg_for_window)\n",
    "        return Average_values_for_window\n",
    "    except Exception as a:\n",
    "        print(a)\n",
    "\n",
    "\n",
    "\n",
    "moving_average(a,window)\n",
    "    "
   ]
  },
  {
   "cell_type": "code",
   "execution_count": null,
   "metadata": {},
   "outputs": [],
   "source": [
    "\n",
    "def moving_average(a,window):\n",
    "    \n",
    "    for i in range(len(a)):\n",
    "        index = i+window\n",
    "        if index > len(a):\n",
    "            break\n",
    "        index_values=[]\n",
    "        for j in range(i,index):\n",
    "        \n",
    "            index_values.append(a[j])\n",
    "        print(index_values)\n",
    "        avg_result = np.average(index_values)\n",
    "        final_result = []\n",
    "        final_result.append(avg_result)\n",
    "\n",
    "        print(final_result)\n",
    "        \n",
    "\n",
    "moving_average(a,window)\n",
    "        \n",
    "        "
   ]
  }
 ],
 "metadata": {
  "kernelspec": {
   "display_name": "Python 3",
   "language": "python",
   "name": "python3"
  },
  "language_info": {
   "codemirror_mode": {
    "name": "ipython",
    "version": 3
   },
   "file_extension": ".py",
   "mimetype": "text/x-python",
   "name": "python",
   "nbconvert_exporter": "python",
   "pygments_lexer": "ipython3",
   "version": "3.8.5"
  }
 },
 "nbformat": 4,
 "nbformat_minor": 4
}
